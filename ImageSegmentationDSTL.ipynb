{
 "cells": [
  {
   "cell_type": "code",
   "execution_count": 1,
   "metadata": {},
   "outputs": [
    {
     "name": "stdout",
     "output_type": "stream",
     "text": [
      "Collecting kaggle\n",
      "Collecting python-dateutil (from kaggle)\n",
      "  Using cached https://files.pythonhosted.org/packages/41/17/c62faccbfbd163c7f57f3844689e3a78bae1f403648a6afb1d0866d87fbb/python_dateutil-2.8.0-py2.py3-none-any.whl\n",
      "Collecting urllib3<1.25,>=1.21.1 (from kaggle)\n",
      "  Using cached https://files.pythonhosted.org/packages/62/00/ee1d7de624db8ba7090d1226aebefab96a2c71cd5cfa7629d6ad3f61b79e/urllib3-1.24.1-py2.py3-none-any.whl\n",
      "Collecting tqdm (from kaggle)\n",
      "  Using cached https://files.pythonhosted.org/packages/6c/4b/c38b5144cf167c4f52288517436ccafefe9dc01b8d1c190e18a6b154cd4a/tqdm-4.31.1-py2.py3-none-any.whl\n",
      "Collecting requests (from kaggle)\n",
      "  Using cached https://files.pythonhosted.org/packages/7d/e3/20f3d364d6c8e5d2353c72a67778eb189176f08e873c9900e10c0287b84b/requests-2.21.0-py2.py3-none-any.whl\n",
      "Collecting certifi (from kaggle)\n",
      "  Using cached https://files.pythonhosted.org/packages/60/75/f692a584e85b7eaba0e03827b3d51f45f571c2e793dd731e598828d380aa/certifi-2019.3.9-py2.py3-none-any.whl\n",
      "Collecting python-slugify (from kaggle)\n",
      "Collecting six>=1.10 (from kaggle)\n",
      "  Using cached https://files.pythonhosted.org/packages/73/fb/00a976f728d0d1fecfe898238ce23f502a721c0ac0ecfedb80e0d88c64e9/six-1.12.0-py2.py3-none-any.whl\n",
      "Collecting idna<2.9,>=2.5 (from requests->kaggle)\n",
      "  Using cached https://files.pythonhosted.org/packages/14/2c/cd551d81dbe15200be1cf41cd03869a46fe7226e7450af7a6545bfc474c9/idna-2.8-py2.py3-none-any.whl\n",
      "Collecting chardet<3.1.0,>=3.0.2 (from requests->kaggle)\n",
      "  Using cached https://files.pythonhosted.org/packages/bc/a9/01ffebfb562e4274b6487b4bb1ddec7ca55ec7510b22e4c51f14098443b8/chardet-3.0.4-py2.py3-none-any.whl\n",
      "Collecting text-unidecode==1.2 (from python-slugify->kaggle)\n",
      "  Using cached https://files.pythonhosted.org/packages/79/42/d717cc2b4520fb09e45b344b1b0b4e81aa672001dd128c180fabc655c341/text_unidecode-1.2-py2.py3-none-any.whl\n",
      "Installing collected packages: six, python-dateutil, urllib3, tqdm, idna, certifi, chardet, requests, text-unidecode, python-slugify, kaggle\n",
      "Successfully installed certifi-2019.3.9 chardet-3.0.4 idna-2.8 kaggle-1.5.3 python-dateutil-2.8.0 python-slugify-3.0.1 requests-2.21.0 six-1.12.0 text-unidecode-1.2 tqdm-4.31.1 urllib3-1.24.1\n"
     ]
    }
   ],
   "source": [
    "!pip3 install kaggle"
   ]
  },
  {
   "cell_type": "code",
   "execution_count": 1,
   "metadata": {},
   "outputs": [
    {
     "name": "stdout",
     "output_type": "stream",
     "text": [
      "Warning: Your Kaggle API key is readable by other users on this system! To fix this, you can run 'chmod 600 /home/jupyter/.kaggle/kaggle.json'\n"
     ]
    }
   ],
   "source": [
    "import kaggle"
   ]
  },
  {
   "cell_type": "code",
   "execution_count": 2,
   "metadata": {},
   "outputs": [],
   "source": [
    "import os\n",
    "import glob\n",
    "import zipfile\n",
    "import functools\n",
    "\n",
    "import numpy as np\n",
    "import matplotlib.pyplot as plt\n",
    "import matplotlib as mpl\n",
    "mpl.rcParams['axes.grid'] = False\n",
    "mpl.rcParams['figure.figsize'] = (12,12)\n",
    "\n",
    "from sklearn.model_selection import train_test_split\n",
    "import matplotlib.image as mpimg\n",
    "import pandas as pd\n",
    "from PIL import Image"
   ]
  },
  {
   "cell_type": "code",
   "execution_count": 3,
   "metadata": {},
   "outputs": [],
   "source": [
    "import tensorflow as tf\n",
    "import tensorflow.contrib as tfcontrib\n",
    "from tensorflow.python.keras import layers\n",
    "from tensorflow.python.keras import losses\n",
    "from tensorflow.python.keras import models\n",
    "from tensorflow.python.keras import backend as K  "
   ]
  },
  {
   "cell_type": "code",
   "execution_count": 4,
   "metadata": {},
   "outputs": [],
   "source": [
    "import os\n",
    "# upload the kaggle.json to /home/jupyter/.kaggle/."
   ]
  },
  {
   "cell_type": "code",
   "execution_count": 5,
   "metadata": {},
   "outputs": [],
   "source": [
    "import kaggle"
   ]
  },
  {
   "cell_type": "code",
   "execution_count": 6,
   "metadata": {},
   "outputs": [],
   "source": [
    "competition_name = 'dstl-satellite-imagery-feature-detection'\n",
    "#kaggle competitions download -c dstl-satellite-imagery-feature-detection"
   ]
  },
  {
   "cell_type": "code",
   "execution_count": null,
   "metadata": {},
   "outputs": [],
   "source": [
    "# Download data from Kaggle and unzip the files of interest. \n",
    "def load_data_from_zip(competition, file):\n",
    "  with zipfile.ZipFile(os.path.join(competition, file), \"r\") as zip_ref:\n",
    "    unzipped_file = zip_ref.namelist()[0]\n",
    "    zip_ref.extractall(competition)\n",
    "\n",
    "def get_data(competition):\n",
    "    kaggle.api.competition_download_files(competition, competition)\n",
    "    load_data_from_zip(competition, 'sixteen_band.zip')\n",
    "    load_data_from_zip(competition, 'three_band.zip')\n",
    "    load_data_from_zip(competition, 'train_geojson_v3.zip')\n",
    "    load_data_from_zip(competition_name, 'train_wkt_v4.csv.zip')\n",
    "    load_data_from_zip(competition_name, 'grid_sizes.csv.zip')\n",
    "    load_data_from_zip(competition_name, 'sample_submission.csv.zip')"
   ]
  },
  {
   "cell_type": "code",
   "execution_count": null,
   "metadata": {},
   "outputs": [],
   "source": [
    "get_data(competition_name)\n",
    "# this takes about 60 minutes there is 20GB of data"
   ]
  },
  {
   "cell_type": "code",
   "execution_count": 8,
   "metadata": {},
   "outputs": [
    {
     "name": "stdout",
     "output_type": "stream",
     "text": [
      "Collecting tifffile\n",
      "  Using cached https://files.pythonhosted.org/packages/ea/01/e69e5f741653121a0b60de5ba03cebbec3fd517ac0791d6530e56d9d06b0/tifffile-2019.3.8-py2.py3-none-any.whl\n",
      "Collecting numpy>=1.11.3 (from tifffile)\n",
      "  Using cached https://files.pythonhosted.org/packages/e3/18/4f013c3c3051f4e0ffbaa4bf247050d6d5e527fe9cb1907f5975b172f23f/numpy-1.16.2-cp35-cp35m-manylinux1_x86_64.whl\n",
      "Installing collected packages: numpy, tifffile\n",
      "Successfully installed numpy-1.16.2 tifffile-2019.3.8\n"
     ]
    }
   ],
   "source": [
    "!pip3 install tifffile"
   ]
  },
  {
   "cell_type": "code",
   "execution_count": null,
   "metadata": {},
   "outputs": [],
   "source": [
    "!pip3 install descartes"
   ]
  },
  {
   "cell_type": "code",
   "execution_count": 9,
   "metadata": {},
   "outputs": [
    {
     "name": "stdout",
     "output_type": "stream",
     "text": [
      "Collecting shapely\n",
      "  Downloading https://files.pythonhosted.org/packages/a2/6c/966fa320a88fc685c956af08135855fa84a1589631256abebf73721c26ed/Shapely-1.6.4.post2-cp35-cp35m-manylinux1_x86_64.whl (1.5MB)\n",
      "\u001b[K    100% |████████████████████████████████| 1.5MB 931kB/s \n",
      "\u001b[?25hInstalling collected packages: shapely\n",
      "Successfully installed shapely-1.6.4.post2\n"
     ]
    }
   ],
   "source": [
    "!pip3 install shapely"
   ]
  },
  {
   "cell_type": "code",
   "execution_count": 20,
   "metadata": {},
   "outputs": [],
   "source": [
    "from utils import data_utils, train_utils"
   ]
  },
  {
   "cell_type": "code",
   "execution_count": 25,
   "metadata": {},
   "outputs": [
    {
     "name": "stdout",
     "output_type": "stream",
     "text": [
      "/home/jupyter/dstl_unet\n"
     ]
    }
   ],
   "source": [
    "#whoa! Are you sure - this takes a day last time I ran it!\n",
    "!pwd"
   ]
  },
  {
   "cell_type": "code",
   "execution_count": 31,
   "metadata": {},
   "outputs": [],
   "source": [
    "!cd /home/jupyter/dstl_unet/utils"
   ]
  },
  {
   "cell_type": "code",
   "execution_count": null,
   "metadata": {},
   "outputs": [
    {
     "name": "stdout",
     "output_type": "stream",
     "text": [
      "Align two rasters for 6010_1_2_M: cc:0.9560109305832611\n",
      "warp matrix: \n",
      "[[ 1.0000000e+00 -5.3159874e-05 -2.1118374e+00]\n",
      " [ 5.3159874e-05  1.0000000e+00 -1.6461596e+00]]\n",
      "Align two rasters for 6010_1_2_A: cc:0.7562650947897455\n",
      "warp matrix: \n",
      "[[ 1.0000000e+00 -1.4252675e-04 -1.8752275e+01]\n",
      " [ 1.4252675e-04  1.0000000e+00  1.4256360e+01]]\n",
      "Align two rasters for 6010_4_2_M: cc:0.9637410336078941\n",
      "warp matrix: \n",
      "[[ 1.0000000e+00 -1.7019949e-04 -2.1078336e+00]\n",
      " [ 1.7019949e-04  1.0000000e+00 -5.7248658e-01]]\n",
      "Align two rasters for 6010_4_2_A: cc:0.807989233433795\n",
      "warp matrix: \n",
      "[[ 1.0000000e+00  2.4852898e-06 -1.8916107e+01]\n",
      " [-2.4852898e-06  1.0000000e+00  9.0697565e+00]]\n",
      "Align two rasters for 6010_4_4_M: cc:0.9565304672908258\n",
      "warp matrix: \n",
      "[[ 1.0000000e+00 -2.5203775e-05 -1.6531088e+00]\n",
      " [ 2.5203775e-05  1.0000000e+00 -2.8474563e-01]]\n",
      "Align two rasters for 6010_4_4_A: cc:0.7961287336425549\n",
      "warp matrix: \n",
      "[[ 1.0000000e+00  6.9238158e-05 -1.2039807e+01]\n",
      " [-6.9238158e-05  1.0000000e+00  1.0237100e+01]]\n",
      "Align two rasters for 6040_1_0_M: cc:0.9843494879130003\n",
      "warp matrix: \n",
      "[[ 1.0000000e+00  5.1982839e-05  9.6512043e-01]\n",
      " [-5.1982839e-05  1.0000000e+00 -1.1219639e+00]]\n",
      "Align two rasters for 6040_1_0_A: cc:0.8120387854410095\n",
      "warp matrix: \n",
      "[[ 9.9999988e-01  4.5469677e-04 -1.1493599e+01]\n",
      " [-4.5469677e-04  9.9999988e-01 -4.8498163e+00]]\n",
      "Align two rasters for 6040_1_3_M: cc:0.963201598995315\n",
      "warp matrix: \n",
      "[[ 1.0000000e+00  2.1010816e-04 -2.3416946e+00]\n",
      " [-2.1010816e-04  1.0000000e+00 -6.7967194e-01]]\n",
      "Align two rasters for 6040_1_3_A: cc:0.816125955734341\n",
      "warp matrix: \n",
      "[[ 9.9999994e-01  3.2545632e-04 -3.8171608e+01]\n",
      " [-3.2545632e-04  9.9999994e-01 -2.6523752e+00]]\n",
      "Align two rasters for 6040_2_2_M: cc:0.9791707301694187\n",
      "warp matrix: \n",
      "[[ 1.0000000e+00  1.1982967e-04 -8.9250284e-01]\n",
      " [-1.1982967e-04  1.0000000e+00  1.1945262e-01]]\n",
      "Align two rasters for 6040_2_2_A: cc:0.7991759005053073\n",
      "warp matrix: \n",
      "[[ 1.0000000e+00 -1.7675743e-04 -2.5678375e+01]\n",
      " [ 1.7675743e-04  1.0000000e+00 -6.5568552e+00]]\n",
      "Align two rasters for 6040_4_4_M: cc:0.9682467924591478\n",
      "warp matrix: \n",
      "[[ 1.0000000e+00 -5.1153325e-05 -6.7999876e-01]\n",
      " [ 5.1153325e-05  1.0000000e+00 -1.1871801e-01]]\n",
      "Align two rasters for 6040_4_4_A: cc:0.7607035337670255\n",
      "warp matrix: \n",
      "[[ 9.9999976e-01 -6.5109076e-04 -2.0898176e+01]\n",
      " [ 6.5109076e-04  9.9999976e-01  3.5555565e+00]]\n",
      "Align two rasters for 6060_2_3_M: cc:0.9442365469876245\n",
      "warp matrix: \n",
      "[[ 9.9999994e-01 -2.5004573e-04 -2.0522990e+00]\n",
      " [ 2.5004573e-04  9.9999994e-01 -2.2513161e+00]]\n",
      "Align two rasters for 6060_2_3_A: cc:0.8538391533284038\n",
      "warp matrix: \n",
      "[[ 1.0000000e+00 -8.0057689e-05 -1.0310380e+00]\n",
      " [ 8.0057689e-05  1.0000000e+00 -1.9361214e+01]]\n",
      "Align two rasters for 6070_2_3_M: cc:0.9524749327656382\n",
      "warp matrix: \n",
      "[[ 9.9999988e-01  4.4347139e-04 -6.1483703e+00]\n",
      " [-4.4347139e-04  9.9999988e-01 -7.6786680e+00]]\n",
      "Align two rasters for 6070_2_3_A: cc:0.6059131766175248\n",
      "warp matrix: \n",
      "[[ 9.9999994e-01 -2.5919432e-04 -4.2041122e+01]\n",
      " [ 2.5919432e-04  9.9999994e-01 -1.2746951e+01]]\n",
      "Align two rasters for 6090_2_0_M: cc:0.9414917850274614\n",
      "warp matrix: \n",
      "[[ 1.0000000e+00 -1.0855722e-04 -2.2943726e+00]\n",
      " [ 1.0855722e-04  1.0000000e+00  2.4282031e+00]]\n",
      "Align two rasters for 6090_2_0_A: cc:0.7118633957162681\n",
      "warp matrix: \n",
      "[[ 9.9999994e-01  3.2140981e-04 -7.5690293e+00]\n",
      " [-3.2140981e-04  9.9999994e-01  1.1200745e-01]]\n",
      "Align two rasters for 6100_1_3_M: cc:0.9379166123975993\n",
      "warp matrix: \n",
      "[[ 1.0000000e+00 -1.0928244e-04 -2.2957044e+00]\n",
      " [ 1.0928244e-04  1.0000000e+00 -4.1327357e-01]]\n"
     ]
    }
   ],
   "source": [
    "run /home/jupyter/dstl_unet/utils/align_images.py"
   ]
  },
  {
   "cell_type": "code",
   "execution_count": null,
   "metadata": {},
   "outputs": [],
   "source": []
  }
 ],
 "metadata": {
  "kernelspec": {
   "display_name": "Python 3",
   "language": "python",
   "name": "python3"
  },
  "language_info": {
   "codemirror_mode": {
    "name": "ipython",
    "version": 3
   },
   "file_extension": ".py",
   "mimetype": "text/x-python",
   "name": "python",
   "nbconvert_exporter": "python",
   "pygments_lexer": "ipython3",
   "version": "3.5.3"
  }
 },
 "nbformat": 4,
 "nbformat_minor": 2
}
